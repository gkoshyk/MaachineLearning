{
 "cells": [
  {
   "cell_type": "markdown",
   "metadata": {},
   "source": [
    "# Machine learning Assignment 5"
   ]
  },
  {
   "cell_type": "code",
   "execution_count": 1,
   "metadata": {
    "collapsed": true
   },
   "outputs": [],
   "source": [
    "# Comparing the performance of classifiers\n",
    "# • k-Nearest Neighbors\n",
    "# • Bagging\n",
    "# • Random Forests\n",
    "# • AdaBoost\n",
    "# • Gradient Boosting\n",
    "\n",
    "# Implemented code on github\n",
    "# https://github.com/gkoshyk/MachineLearning/tree/master/assignment5"
   ]
  },
  {
   "cell_type": "markdown",
   "metadata": {},
   "source": [
    "# Prerequisites to install"
   ]
  },
  {
   "cell_type": "code",
   "execution_count": 2,
   "metadata": {
    "collapsed": true
   },
   "outputs": [],
   "source": [
    "# Install python 2.7 \n",
    "\n",
    "# Install jupyter command\n",
    "#    pip install jupyter\n",
    "\n",
    "# Install latest dev version of sklearn command\n",
    "#    pip install git+git://github.com/scikit-learn/scikit-learn.git\n",
    "\n",
    "# Install pandas command\n",
    "#    pip install pandas\n",
    "\n",
    "# Start jupyter command \n",
    "#    ipython notebook"
   ]
  },
  {
   "cell_type": "markdown",
   "metadata": {},
   "source": [
    "# General Imports"
   ]
  },
  {
   "cell_type": "code",
   "execution_count": 3,
   "metadata": {
    "collapsed": false
   },
   "outputs": [
    {
     "name": "stdout",
     "output_type": "stream",
     "text": [
      "/Users/george/Documents/Spring 2016/Machine Learning-Anurag Nagar/assignments/assignment5\n",
      "\n"
     ]
    }
   ],
   "source": [
    "from __future__ import division\n",
    "import pandas as pd\n",
    "import os\n",
    "print(os.getcwd() + \"\\n\")"
   ]
  },
  {
   "cell_type": "markdown",
   "metadata": {},
   "source": [
    "# Loading the datasets into dataframes\n",
    "Location(https://archive.ics.uci.edu/ml/datasets.html)"
   ]
  },
  {
   "cell_type": "code",
   "execution_count": 4,
   "metadata": {
    "collapsed": false,
    "scrolled": true
   },
   "outputs": [],
   "source": [
    "# Credit card defaulting data set.\n",
    "credit_card_default_df = pd.read_excel(\"datasets/dataset1/default of credit card clients.xls\",\n",
    "                                       headers = \"True\", parse_dates=\"True\")\n",
    "credit_card_default_df = credit_card_default_df.drop('ID', 1)\n",
    "credit_card_default_df=credit_card_default_df.rename(columns = {'default payment next month':'class'})"
   ]
  },
  {
   "cell_type": "code",
   "execution_count": 5,
   "metadata": {
    "collapsed": false,
    "scrolled": true
   },
   "outputs": [],
   "source": [
    "#Ionosphere data set\n",
    "ionosphere_df = pd.read_csv(\"datasets/dataset2/ionosphere.txt\", header = None, parse_dates=\"True\")\n",
    "ionosphere_df = ionosphere_df.rename(columns = {34:'class'})"
   ]
  },
  {
   "cell_type": "code",
   "execution_count": 6,
   "metadata": {
    "collapsed": false,
    "scrolled": true
   },
   "outputs": [],
   "source": [
    "#Phishing data set\n",
    "phishing_df = pd.read_csv(\"datasets/dataset3/phishing.txt\", header = None, parse_dates=\"True\")\n",
    "phishing_df = phishing_df.rename(columns = {30:'class'})"
   ]
  },
  {
   "cell_type": "code",
   "execution_count": 7,
   "metadata": {
    "collapsed": false,
    "scrolled": true
   },
   "outputs": [],
   "source": [
    "# Transfusion Data Set\n",
    "transfusion_df = pd.read_csv(\"datasets/dataset4/transfusion.data\", header = None, parse_dates=\"True\")\n",
    "transfusion_df = transfusion_df.rename(columns = {4:'class'})"
   ]
  },
  {
   "cell_type": "code",
   "execution_count": 8,
   "metadata": {
    "collapsed": false
   },
   "outputs": [],
   "source": [
    "# Breast Cancer Diagnostic Data set\n",
    "breast_cancer_diagnostic_df = pd.read_csv(\"datasets/dataset5/Wisconsin_Diagnostic_Breast_Cancer.txt\",\n",
    "                                          header = None, parse_dates=\"True\")\n",
    "breast_cancer_diagnostic_df = breast_cancer_diagnostic_df.rename(columns = {1:'class'})"
   ]
  },
  {
   "cell_type": "markdown",
   "metadata": {
    "collapsed": true
   },
   "source": [
    "# Importing the sklearn algorithms"
   ]
  },
  {
   "cell_type": "code",
   "execution_count": 9,
   "metadata": {
    "collapsed": false
   },
   "outputs": [
    {
     "name": "stderr",
     "output_type": "stream",
     "text": [
      "/usr/local/lib/python2.7/site-packages/sklearn/cross_validation.py:43: DeprecationWarning: This module has been deprecated in favor of the model_selection module into which all the refactored classes and functions are moved. Also note that the interface of the new CV iterators are different from that of this module. This module will be removed in 0.20.\n",
      "  \"This module will be removed in 0.20.\", DeprecationWarning)\n"
     ]
    }
   ],
   "source": [
    "from sklearn.neighbors import KNeighborsClassifier\n",
    "\n",
    "from sklearn.ensemble import BaggingClassifier\n",
    "\n",
    "from sklearn.ensemble import RandomForestClassifier\n",
    "\n",
    "from sklearn.cross_validation import cross_val_score\n",
    "\n",
    "from sklearn.ensemble import AdaBoostClassifier\n",
    "\n",
    "from sklearn.ensemble import GradientBoostingClassifier\n",
    "\n",
    "from sklearn.cross_validation import KFold\n"
   ]
  },
  {
   "cell_type": "code",
   "execution_count": 10,
   "metadata": {
    "collapsed": false
   },
   "outputs": [],
   "source": [
    "# Map of all the datasets to help in accuracy printing\n",
    "\n",
    "data_frame_map = {\"Credit Card Approval DataSet\" : credit_card_default_df,\n",
    "                    \"Phishing Data Set\" : phishing_df,                    \n",
    "                    \"Ionosphere Data Set\" : ionosphere_df,\n",
    "                    \"Transfusion Data Set\" : transfusion_df,\n",
    "                    \"Breast Cancer Diagnostic Data Set\" : breast_cancer_diagnostic_df}\n",
    "\n",
    "# Map of all the five classifiers to help in accuracy printing\n",
    "classifier_map = {\"K Nearest Neighbor \" : KNeighborsClassifier(n_neighbors=7),\n",
    "                   \"Bagging Classifier \" : BaggingClassifier(KNeighborsClassifier(),max_samples=0.5, max_features=0.5),\n",
    "                   \"Random Forest Classifier \" : RandomForestClassifier(n_estimators=10),\n",
    "                   \"AdaBoost\" : AdaBoostClassifier(n_estimators=100),\n",
    "                   \"Gradient Boosting\" :GradientBoostingClassifier(n_estimators=100, learning_rate=1.0,max_depth=1, random_state=0)}"
   ]
  },
  {
   "cell_type": "code",
   "execution_count": 11,
   "metadata": {
    "collapsed": false,
    "scrolled": false
   },
   "outputs": [
    {
     "name": "stdout",
     "output_type": "stream",
     "text": [
      "Number of instances and number of attributes in Phishing Data Set dataset are 11055 and 30\n",
      "Accuracy of Phishing Data Set after running with K Nearest Neighbor  algorithm is 0.937557\n",
      "Accuracy of Phishing Data Set after running with Bagging Classifier  algorithm is 0.953846\n",
      "Accuracy of Phishing Data Set after running with Random Forest Classifier  algorithm is 0.961991\n",
      "Accuracy of Phishing Data Set after running with AdaBoost algorithm is 0.930317\n",
      "Accuracy of Phishing Data Set after running with Gradient Boosting algorithm is 0.936652\n",
      "Number of instances and number of attributes in Breast Cancer Diagnostic Data Set dataset are 569 and 31\n",
      "Accuracy of Breast Cancer Diagnostic Data Set after running with K Nearest Neighbor  algorithm is 0.785714\n",
      "Accuracy of Breast Cancer Diagnostic Data Set after running with Bagging Classifier  algorithm is 0.982143\n",
      "Accuracy of Breast Cancer Diagnostic Data Set after running with Random Forest Classifier  algorithm is 0.982143\n",
      "Accuracy of Breast Cancer Diagnostic Data Set after running with AdaBoost algorithm is 0.964286\n",
      "Accuracy of Breast Cancer Diagnostic Data Set after running with Gradient Boosting algorithm is 0.964286\n",
      "Number of instances and number of attributes in Credit Card Approval DataSet dataset are 30000 and 23\n",
      "Accuracy of Credit Card Approval DataSet after running with K Nearest Neighbor  algorithm is 0.761333\n",
      "Accuracy of Credit Card Approval DataSet after running with Bagging Classifier  algorithm is 0.787333\n",
      "Accuracy of Credit Card Approval DataSet after running with Random Forest Classifier  algorithm is 0.812333\n",
      "Accuracy of Credit Card Approval DataSet after running with AdaBoost algorithm is 0.822333\n",
      "Accuracy of Credit Card Approval DataSet after running with Gradient Boosting algorithm is 0.823333\n",
      "Number of instances and number of attributes in Transfusion Data Set dataset are 748 and 4\n",
      "Accuracy of Transfusion Data Set after running with K Nearest Neighbor  algorithm is 0.918919\n",
      "Accuracy of Transfusion Data Set after running with Bagging Classifier  algorithm is 0.932432\n",
      "Accuracy of Transfusion Data Set after running with Random Forest Classifier  algorithm is 0.918919\n",
      "Accuracy of Transfusion Data Set after running with AdaBoost algorithm is 0.918919\n",
      "Accuracy of Transfusion Data Set after running with Gradient Boosting algorithm is 0.918919\n",
      "Number of instances and number of attributes in Ionosphere Data Set dataset are 351 and 34\n",
      "Accuracy of Ionosphere Data Set after running with K Nearest Neighbor  algorithm is 0.971429\n",
      "Accuracy of Ionosphere Data Set after running with Bagging Classifier  algorithm is 0.971429\n",
      "Accuracy of Ionosphere Data Set after running with Random Forest Classifier  algorithm is 0.971429\n",
      "Accuracy of Ionosphere Data Set after running with AdaBoost algorithm is 0.971429\n",
      "Accuracy of Ionosphere Data Set after running with Gradient Boosting algorithm is 0.971429\n"
     ]
    }
   ],
   "source": [
    "#Implementing the pseudo code.\n",
    "\n",
    "for data_frame_key, data_frame_value in data_frame_map.iteritems():\n",
    "    \n",
    "    classLabel = data_frame_value.pop('class')\n",
    "    print (\"Number of instances and number of attributes in %s dataset are %d and %d\" % (data_frame_key,len(data_frame_value.axes[0]),len(data_frame_value.axes[1])))\n",
    "    f = open('ReportOfRunningScript.txt','a')\n",
    "    f.write(\"Number of instances and number of attributes in %s dataset are %d and %d\" % (data_frame_key,len(data_frame_value.axes[0]),len(data_frame_value.axes[1])))\n",
    "    f.close()\n",
    "        \n",
    "    kf = KFold(len(data_frame_value.axes[0]), n_folds=10)\n",
    "    for train, test in kf:        \n",
    "        Xtrain, Xtest, ytrain, ytest = data_frame_value.iloc[train], data_frame_value.iloc[test], classLabel[train], classLabel[test]\n",
    "\n",
    "    for clf_key, clf_value in classifier_map.iteritems():\n",
    "        clf = clf_value.fit(Xtrain, ytrain)\n",
    "        score = clf.score(Xtest,ytest)\n",
    "        print(\"Accuracy of %s after running with %s algorithm is %f\" % (data_frame_key, clf_key,score))\n",
    "        f = open('ReportOfRunningScript.txt','a')\n",
    "        f.write(\"Accuracy of %s after running with %s algorithm is %f\" % (data_frame_key, clf_key,score))\n",
    "        f.close()"
   ]
  },
  {
   "cell_type": "code",
   "execution_count": null,
   "metadata": {
    "collapsed": true
   },
   "outputs": [],
   "source": []
  },
  {
   "cell_type": "code",
   "execution_count": null,
   "metadata": {
    "collapsed": true
   },
   "outputs": [],
   "source": []
  }
 ],
 "metadata": {
  "kernelspec": {
   "display_name": "Python 2",
   "language": "python",
   "name": "python2"
  },
  "language_info": {
   "codemirror_mode": {
    "name": "ipython",
    "version": 2
   },
   "file_extension": ".py",
   "mimetype": "text/x-python",
   "name": "python",
   "nbconvert_exporter": "python",
   "pygments_lexer": "ipython2",
   "version": "2.7.11"
  }
 },
 "nbformat": 4,
 "nbformat_minor": 0
}
