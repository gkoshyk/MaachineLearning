{
 "cells": [
  {
   "cell_type": "markdown",
   "metadata": {},
   "source": [
    "# Machine learning Assignment 3"
   ]
  },
  {
   "cell_type": "code",
   "execution_count": 12,
   "metadata": {
    "collapsed": true
   },
   "outputs": [],
   "source": [
    "# Comparing the performance of classifiers\n",
    "# • Decision Trees\n",
    "# • Perceptron (Single Linear Classifier)\n",
    "# • Neural Net\n",
    "# • Support Vector Machines\n",
    "# • Naïve Bayes Classifiers\n",
    "\n",
    "# Implemented code on github\n",
    "# https://github.com/gkoshyk/MachineLearning/tree/master/assignment3"
   ]
  },
  {
   "cell_type": "markdown",
   "metadata": {},
   "source": [
    "# Prerequisites to install"
   ]
  },
  {
   "cell_type": "code",
   "execution_count": 13,
   "metadata": {
    "collapsed": true
   },
   "outputs": [],
   "source": [
    "# Install python 2.7 \n",
    "\n",
    "# Install jupyter command\n",
    "#    pip install jupyter\n",
    "\n",
    "# Install latest dev version of sklearn command\n",
    "#    pip install git+git://github.com/scikit-learn/scikit-learn.git\n",
    "\n",
    "# Install pandas command\n",
    "#    pip install pandas\n",
    "\n",
    "# Start jupyter command \n",
    "#    ipython notebook"
   ]
  },
  {
   "cell_type": "markdown",
   "metadata": {},
   "source": [
    "# General Imports"
   ]
  },
  {
   "cell_type": "code",
   "execution_count": 14,
   "metadata": {
    "collapsed": false
   },
   "outputs": [
    {
     "name": "stdout",
     "output_type": "stream",
     "text": [
      "/Users/george/Documents/Spring 2016/Machine Learning-Anurag Nagar/assignments/assignment3\n",
      "\n"
     ]
    }
   ],
   "source": [
    "from __future__ import division\n",
    "import pandas as pd\n",
    "import os\n",
    "print(os.getcwd() + \"\\n\")"
   ]
  },
  {
   "cell_type": "markdown",
   "metadata": {},
   "source": [
    "# Loading the datasets into dataframes\n",
    "Location(https://archive.ics.uci.edu/ml/datasets.html)"
   ]
  },
  {
   "cell_type": "code",
   "execution_count": 15,
   "metadata": {
    "collapsed": false,
    "scrolled": true
   },
   "outputs": [],
   "source": [
    "# Credit card defaulting data set.\n",
    "credit_card_default_df = pd.read_excel(\"datasets/dataset1/default of credit card clients.xls\",\n",
    "                                       headers = \"True\", parse_dates=\"True\")\n",
    "credit_card_default_df = credit_card_default_df.drop('ID', 1)\n",
    "credit_card_default_df=credit_card_default_df.rename(columns = {'default payment next month':'class'})"
   ]
  },
  {
   "cell_type": "code",
   "execution_count": 16,
   "metadata": {
    "collapsed": false,
    "scrolled": true
   },
   "outputs": [],
   "source": [
    "#Ionosphere data set\n",
    "ionosphere_df = pd.read_csv(\"datasets/dataset2/ionosphere.txt\", header = None, parse_dates=\"True\")\n",
    "ionosphere_df = ionosphere_df.rename(columns = {34:'class'})"
   ]
  },
  {
   "cell_type": "code",
   "execution_count": 17,
   "metadata": {
    "collapsed": false,
    "scrolled": true
   },
   "outputs": [],
   "source": [
    "#Phishing data set\n",
    "phishing_df = pd.read_csv(\"datasets/dataset3/phishing.txt\", header = None, parse_dates=\"True\")\n",
    "phishing_df = phishing_df.rename(columns = {30:'class'})"
   ]
  },
  {
   "cell_type": "code",
   "execution_count": 18,
   "metadata": {
    "collapsed": false,
    "scrolled": true
   },
   "outputs": [],
   "source": [
    "# Transfusion Data Set\n",
    "transfusion_df = pd.read_csv(\"datasets/dataset4/transfusion.data\", header = None, parse_dates=\"True\")\n",
    "transfusion_df = transfusion_df.rename(columns = {4:'class'})"
   ]
  },
  {
   "cell_type": "code",
   "execution_count": 19,
   "metadata": {
    "collapsed": false
   },
   "outputs": [],
   "source": [
    "# Breast Cancer Diagnostic Data set\n",
    "breast_cancer_diagnostic_df = pd.read_csv(\"datasets/dataset5/Wisconsin_Diagnostic_Breast_Cancer.txt\",\n",
    "                                          header = None, parse_dates=\"True\")\n",
    "breast_cancer_diagnostic_df = breast_cancer_diagnostic_df.rename(columns = {1:'class'})"
   ]
  },
  {
   "cell_type": "markdown",
   "metadata": {
    "collapsed": true
   },
   "source": [
    "# Importing the sklearn algorithms(Need sklearn latest dev version 0.18dev)"
   ]
  },
  {
   "cell_type": "code",
   "execution_count": 20,
   "metadata": {
    "collapsed": false
   },
   "outputs": [],
   "source": [
    "# Importing the algorithms required to run\n",
    "from sklearn.cross_validation import train_test_split, StratifiedShuffleSplit, LeaveOneOut\n",
    "\n",
    "from sklearn import tree\n",
    "\n",
    "from sklearn.linear_model import Perceptron\n",
    "\n",
    "\n",
    "#Install the latest dev version 0.18dev to get neural network code with the following instructions below\n",
    "\n",
    "# http://stackoverflow.com/questions/33568244/upgrade-to-dev-version-of-scikit-learn-on-anaconda\n",
    "# pip install git+git://github.com/scikit-learn/scikit-learn.git\n",
    "# This command runs perfectly fine on a MAC.\n",
    "\n",
    "# After installation shut down and open ipython and run the code again to see the import working perfectly fine.\n",
    "\n",
    "from sklearn.neural_network import MLPClassifier\n",
    "\n",
    "from sklearn import svm\n",
    "\n",
    "from sklearn.naive_bayes import GaussianNB"
   ]
  },
  {
   "cell_type": "code",
   "execution_count": 21,
   "metadata": {
    "collapsed": false
   },
   "outputs": [],
   "source": [
    "# Map of all the datasets to help in accuracy printing\n",
    "data_frame_map = {\"Credit Card Approval DataSet\" : credit_card_default_df,\n",
    "                    \"Phishing Data Set\" : phishing_df,                    \n",
    "                    \"Ionosphere Data Set\" : ionosphere_df,\n",
    "                    \"Transfusion Data Set\" : transfusion_df,\n",
    "                    \"Breast Cancer Diagnostic Data Set\" : breast_cancer_diagnostic_df}\n",
    "\n",
    "# Map of all the five classifiers to help in accuracy printing\n",
    "classifier_map = {\"Decision Tree \" : tree.DecisionTreeClassifier(),\n",
    "                   \"Perceptron \" : Perceptron(fit_intercept=False, n_iter=10, shuffle=False),\n",
    "                   \"Neural Network \" : MLPClassifier(algorithm='sgd', alpha=1e-5, hidden_layer_sizes=(5, 2), random_state=1),\n",
    "                   \"Support Vector Machines\" : svm.SVC(),\n",
    "                   \"Naive Bayes\" :GaussianNB()}"
   ]
  },
  {
   "cell_type": "code",
   "execution_count": 22,
   "metadata": {
    "collapsed": false,
    "scrolled": false
   },
   "outputs": [
    {
     "name": "stdout",
     "output_type": "stream",
     "text": [
      "Number of instances and number of attributes in Phishing Data Set dataset are 11055 and 30\n",
      "Accuracy of Phishing Data Set after running with Decision Tree  algorithm 1 time is 0.966531\n",
      "Accuracy of Phishing Data Set after running with Perceptron  algorithm 1 time is 0.822705\n",
      "Accuracy of Phishing Data Set after running with Support Vector Machines algorithm 1 time is 0.951606\n",
      "Accuracy of Phishing Data Set after running with Naive Bayes algorithm 1 time is 0.599276\n",
      "Accuracy of Phishing Data Set after running with Neural Network  algorithm 1 time is 0.932610\n",
      "Accuracy of Phishing Data Set after running with Decision Tree  algorithm 2 time is 0.958390\n",
      "Accuracy of Phishing Data Set after running with Perceptron  algorithm 2 time is 0.910900\n",
      "Accuracy of Phishing Data Set after running with Support Vector Machines algorithm 2 time is 0.944369\n",
      "Accuracy of Phishing Data Set after running with Naive Bayes algorithm 2 time is 0.582994\n",
      "Accuracy of Phishing Data Set after running with Neural Network  algorithm 2 time is 0.922659\n",
      "Number of instances and number of attributes in Breast Cancer Diagnostic Data Set dataset are 569 and 31\n",
      "Accuracy of Breast Cancer Diagnostic Data Set after running with Decision Tree  algorithm 1 time is 0.929825\n",
      "Accuracy of Breast Cancer Diagnostic Data Set after running with Perceptron  algorithm 1 time is 0.333333\n",
      "Accuracy of Breast Cancer Diagnostic Data Set after running with Support Vector Machines algorithm 1 time is 0.666667\n",
      "Accuracy of Breast Cancer Diagnostic Data Set after running with Naive Bayes algorithm 1 time is 0.666667\n",
      "Accuracy of Breast Cancer Diagnostic Data Set after running with Neural Network  algorithm 1 time is 0.666667\n",
      "Accuracy of Breast Cancer Diagnostic Data Set after running with Decision Tree  algorithm 2 time is 0.938596\n",
      "Accuracy of Breast Cancer Diagnostic Data Set after running with Perceptron  algorithm 2 time is 0.377193\n",
      "Accuracy of Breast Cancer Diagnostic Data Set after running with Support Vector Machines algorithm 2 time is 0.622807\n",
      "Accuracy of Breast Cancer Diagnostic Data Set after running with Naive Bayes algorithm 2 time is 0.614035\n",
      "Accuracy of Breast Cancer Diagnostic Data Set after running with Neural Network  algorithm 2 time is 0.622807\n",
      "Number of instances and number of attributes in Credit Card Approval DataSet dataset are 30000 and 23\n",
      "Accuracy of Credit Card Approval DataSet after running with Decision Tree  algorithm 1 time is 0.721500\n",
      "Accuracy of Credit Card Approval DataSet after running with Perceptron  algorithm 1 time is 0.770333\n",
      "Accuracy of Credit Card Approval DataSet after running with Support Vector Machines algorithm 1 time is 0.781333\n",
      "Accuracy of Credit Card Approval DataSet after running with Naive Bayes algorithm 1 time is 0.386333\n",
      "Accuracy of Credit Card Approval DataSet after running with Neural Network  algorithm 1 time is 0.781000\n",
      "Accuracy of Credit Card Approval DataSet after running with Decision Tree  algorithm 2 time is 0.723833\n",
      "Accuracy of Credit Card Approval DataSet after running with Perceptron  algorithm 2 time is 0.304333\n",
      "Accuracy of Credit Card Approval DataSet after running with Support Vector Machines algorithm 2 time is 0.780667\n",
      "Accuracy of Credit Card Approval DataSet after running with Naive Bayes algorithm 2 time is 0.381333\n",
      "Accuracy of Credit Card Approval DataSet after running with Neural Network  algorithm 2 time is 0.781167\n",
      "Number of instances and number of attributes in Transfusion Data Set dataset are 748 and 4\n",
      "Accuracy of Transfusion Data Set after running with Decision Tree  algorithm 1 time is 0.686667\n",
      "Accuracy of Transfusion Data Set after running with Perceptron  algorithm 1 time is 0.806667\n",
      "Accuracy of Transfusion Data Set after running with Support Vector Machines algorithm 1 time is 0.786667\n",
      "Accuracy of Transfusion Data Set after running with Naive Bayes algorithm 1 time is 0.746667\n",
      "Accuracy of Transfusion Data Set after running with Neural Network  algorithm 1 time is 0.806667\n",
      "Accuracy of Transfusion Data Set after running with Decision Tree  algorithm 2 time is 0.653333\n",
      "Accuracy of Transfusion Data Set after running with Perceptron  algorithm 2 time is 0.753333\n",
      "Accuracy of Transfusion Data Set after running with Support Vector Machines algorithm 2 time is 0.753333\n",
      "Accuracy of Transfusion Data Set after running with Naive Bayes algorithm 2 time is 0.753333\n",
      "Accuracy of Transfusion Data Set after running with Neural Network  algorithm 2 time is 0.753333\n",
      "Number of instances and number of attributes in Ionosphere Data Set dataset are 351 and 34\n",
      "Accuracy of Ionosphere Data Set after running with Decision Tree  algorithm 1 time is 0.845070\n",
      "Accuracy of Ionosphere Data Set after running with Perceptron  algorithm 1 time is 0.774648\n",
      "Accuracy of Ionosphere Data Set after running with Support Vector Machines algorithm 1 time is 0.943662\n",
      "Accuracy of Ionosphere Data Set after running with Naive Bayes algorithm 1 time is 0.901408\n",
      "Accuracy of Ionosphere Data Set after running with Neural Network  algorithm 1 time is 0.676056\n",
      "Accuracy of Ionosphere Data Set after running with Decision Tree  algorithm 2 time is 0.873239\n",
      "Accuracy of Ionosphere Data Set after running with Perceptron  algorithm 2 time is 0.774648\n",
      "Accuracy of Ionosphere Data Set after running with Support Vector Machines algorithm 2 time is 0.887324\n",
      "Accuracy of Ionosphere Data Set after running with Naive Bayes algorithm 2 time is 0.873239\n",
      "Accuracy of Ionosphere Data Set after running with Neural Network  algorithm 2 time is 0.633803\n"
     ]
    }
   ],
   "source": [
    "#Implementing the pseudo code.\n",
    "\n",
    "for data_frame_key, data_frame_value in data_frame_map.iteritems():\n",
    "    \n",
    "    classLabel = data_frame_value.pop('class')\n",
    "    print (\"Number of instances and number of attributes in %s dataset are %d and %d\" % (data_frame_key,len(data_frame_value.axes[0]),len(data_frame_value.axes[1])))\n",
    "    f = open('ReportOfRunningScript.txt','a')\n",
    "    f.write(\"Number of instances and number of attributes in %s dataset are %d and %d\" % (data_frame_key,len(data_frame_value.axes[0]),len(data_frame_value.axes[1])))\n",
    "    f.close()\n",
    "    \n",
    "    # Variable to initialize random_state attribute to select different train test split each time. Used in splitting inside the loop.\n",
    "    random_sample_selection_number = [42, 17]\n",
    "    \n",
    "    for number_of_times_to_run in range(1,3):\n",
    "\n",
    "        Xtrain, Xtest, ytrain, ytest = train_test_split(data_frame_value,classLabel,test_size=0.2,random_state=random_sample_selection_number.pop())\n",
    "\n",
    "        for clf_key, clf_value in classifier_map.iteritems():\n",
    "            clf = clf_value.fit(Xtrain, ytrain)\n",
    "            score = clf.score(Xtest,ytest)\n",
    "            print(\"Accuracy of %s after running with %s algorithm %d time is %f\" % (data_frame_key, clf_key, number_of_times_to_run,score))\n",
    "            f = open('ReportOfRunningScript.txt','a')\n",
    "            f.write(\"Accuracy of %s after running with %s algorithm %d time is %f\" % (data_frame_key, clf_key, number_of_times_to_run,score))\n",
    "            f.close()"
   ]
  }
 ],
 "metadata": {
  "kernelspec": {
   "display_name": "Python 2",
   "language": "python",
   "name": "python2"
  },
  "language_info": {
   "codemirror_mode": {
    "name": "ipython",
    "version": 2
   },
   "file_extension": ".py",
   "mimetype": "text/x-python",
   "name": "python",
   "nbconvert_exporter": "python",
   "pygments_lexer": "ipython2",
   "version": "2.7.11"
  }
 },
 "nbformat": 4,
 "nbformat_minor": 0
}
